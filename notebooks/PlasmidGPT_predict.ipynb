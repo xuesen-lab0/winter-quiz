{
 "cells": [
  {
   "cell_type": "code",
   "execution_count": 1,
   "id": "eb6442de-e868-4eae-8f6c-d8112ad9f832",
   "metadata": {
    "scrolled": true
   },
   "outputs": [
    {
     "name": "stderr",
     "output_type": "stream",
     "text": [
      "'wget' �����ڲ����ⲿ���Ҳ���ǿ����еĳ���\n",
      "���������ļ���\n",
      "'wget' �����ڲ����ⲿ���Ҳ���ǿ����еĳ���\n",
      "���������ļ���\n"
     ]
    }
   ],
   "source": [
    "#### download prediction model for lab of origin\n",
    "#### other models can also be found in the prediction_models folder\n",
    "\n",
    "!wget https://huggingface.co/lingxusb/PlasmidGPT/resolve/main/embedding_prediction_labs.pth\n",
    "!wget https://huggingface.co/lingxusb/PlasmidGPT/resolve/main/lab_list.txt"
   ]
  },
  {
   "cell_type": "code",
   "execution_count": 1,
   "id": "88a11cad-2d7f-4520-8173-a7985528411d",
   "metadata": {},
   "outputs": [
    {
     "name": "stderr",
     "output_type": "stream",
     "text": [
      "d:\\daxue\\downloads\\Anaconda3\\envs\\PlasmidGPT\\lib\\site-packages\\tqdm\\auto.py:21: TqdmWarning: IProgress not found. Please update jupyter and ipywidgets. See https://ipywidgets.readthedocs.io/en/stable/user_install.html\n",
      "  from .autonotebook import tqdm as notebook_tqdm\n"
     ]
    },
    {
     "name": "stdout",
     "output_type": "stream",
     "text": [
      "Model loaded successfully.\n",
      "Default is Addgene plasmid 202306 (https://www.addgene.org/202306/)\n",
      "Using CPU.\n",
      "Finished calculation of embeddings\n",
      "\n"
     ]
    },
    {
     "name": "stderr",
     "output_type": "stream",
     "text": [
      "C:\\Users\\xuwt\\AppData\\Local\\Temp\\ipykernel_16040\\2184396910.py:73: UserWarning: Creating a tensor from a list of numpy.ndarrays is extremely slow. Please consider converting the list to a single numpy.ndarray with numpy.array() before converting to a tensor. (Triggered internally at ..\\torch\\csrc\\utils\\tensor_new.cpp:248.)\n",
      "  X_data = torch.tensor([embedding[0]], dtype=torch.float32).to(device)\n"
     ]
    },
    {
     "data": {
      "image/png": "[encoded data removed]",
      "text/plain": [
       "<Figure size 150x150 with 1 Axes>"
      ]
     },
     "metadata": {},
     "output_type": "display_data"
    }
   ],
   "source": [
    "import torch\n",
    "import numpy as np\n",
    "from transformers import PreTrainedTokenizerFast\n",
    "import seaborn as sns\n",
    "import matplotlib.pyplot as plt\n",
    "import torch.nn as nn\n",
    "\n",
    "# Define the input sequence, Addgene plasmid 202306\n",
    "sequence = ('GAATCTCGCGTAGACACATACATGAGCAGCGAAAAGAGGTGGCCAGGGGGATCACCTGGCAGCATGCTGCCTAATAAAAAAGGCCGGAAAATCCGGCCTTTTGACGCTTTAGCTCTGACGGCTCAGTGCTGCCCACAGGCTTTCTTCAACACCGGTCAGCAGTTCATCGGTCAGGCTCAGATAATCGTTCTCGATCATTTCATACACTTCCATAAAGCTGCCAAACAGAATTGCAATCAGTGCATTTTCCGGCAGATTACGAATCACACCCTGTTTCTGACCTTCACGAAAAAAGGTGCACACAAATTCAACCAGTTTCTGATATGCCAGACGGCTTTCTTCGGTCAGAAAGGTGCCCTGGCTATGGGTTTTGATAAAACCCAGTGCACGCGGATGATTTTTGGTAAAGGTCACCATACCTTCAAAAATGTGATGAAAGCCATCACGATAACCATCACGTTCATTTGCCAGACCGCTTTCAATACACTGCAGAAATTCATTAACATGCTGCTGAAACAGTTCGTTCACCAGGCTTTCTTTGTTTTTGAAATAGCGATAAATGGTGCCTGCACCAACTTTTGCATTTTCTGCAATCATCGGCATGGTGGTTGCATCAAAACCACGTTCTGCAAACAGCAGCAGGCTTGCGCTAAAAATTGCTTTCTGTTTGGTCGGGGTGCTTTCCATCCTCCCGGCCTCGTTTGGTTAAACAAAATTATTTGTAGAGGACTGTTTCGGCCCTTTTGGGCCATCGTCAGGTCGGATACACATCCGGCGACAGTCTAATTGTGAGCGCTCACAATTCCACACATTATACGAGCCGATGATTAATTGTCAACACAGCCAACGATCGTTCTCCCAGTACAATCTGCTCTGATGCCCTCGAGTGCGGCCGCACTAGTGTCGACGGAGCTCGAATTCGGATCCGAAGTTCCTATACTTTCTAGAGAATAGGAACTTCGGAATAGGAACTTCTATTTTTATAGGTTAATGTCATGATAATAATGGTTTCTTAGACCATGCCTATTTGTTTATTTTTCTAAATACATTCAAATATGTATCCGCTCATGAGACAATAACCCTGATAAATGCTTCAATAATATTGAAAAAGGAAGAGTATGAGCCATATTCAACGGGAAACGTCTTGCTCTAGGCCGCGATTAAATTCCAACATGGATGCTGATTTATATGGGTATAAATGGGCTCGCGATAATGTCGGGCAATCAGGTGCGACAATCTATCGATTGTATGGGAAGCCCGATGCGCCAGAGTTGTTTCTGAAACATGGCAAAGGTAGCGTTGCCAATGATGTTACAGATGAGATGGTCAGACTAAACTGGCTGACGGAATTTATGCCTCTTCCGACCATCAAGCATTTTATCCGTACTCCTGATGATGCATGGTTACTCACCACTGCGATCCCCGGGAAAACAGCATTCCAGGTATTAGAAGAATATCCTGATTCAGGTGAAAATATTGTTGATGCGCTGGCAGTGTTCCTGCGCCGGTTGCATTCGATTCCTGTTTGTAATTGTCCTTTTAACAGCGACCGCGTATTTCGTCTCGCTCAGGCGCAATCACGAATGAATAACGGTTTGGTTGATGCGAGTGATTTTGATGACGAGCGTAATGGCTGGCCTGTTGAACAAGTCTGGAAAGAAATGCATAAACTTTTGCCATTCTCACCGGATTCAGTCGTCACTCATGGTGATTTCTCACTTGATAACCTTATTTTTGACGAGGGGAAATTAATAGGTTGTATTGATGTTGGACGAGTCGGAATCGCAGACCGATACCAGGATCTTGCCATCCTATGGAACTGCCTCGGTGAGTTTTCTCCTTCATTACAGAAACGGCTTTTTCAAAAATATGGTATTGATAATCCTGATATGAATAAATTGCAGTTTCATTTGATGCTCGATGAGTTTTTCTAAAGCTCGCTTGGACTCCTGTTGATAGATCCAGTAATGACCTCAGAACTCCATCTGGATTTGTTCAGAACGCTCGGTTGCCGCCGGGCGTTTTTTATTGGTGAGAATCCAAGCTTAAGGTATACTTTCCGCTGCATAACCCTGCTTCGGGGTCATTATAGCGATTTTTTCGGTATATCCATCCTTTTTCGCACGATATACAGGATTTTGCCAAAGGGTTCGTGTAGACTTTCCTTGGTGTATCCAACGGCGTCAGCCGGGCAGGATAGGTGAAGTAGGCCCACCCGCGAGCGGGTGTTCCTTCTTCACTGTCCCTTATTCGCACCTGGCGGTGCTCAACGGGAATCCTGCTCTGCGAGGCTGGCCGATAAGCTACAAGAAGATCCGGCCACGATGCGTCCGGCGTAGAGGATCTGAAGATCAGCAGTTCAACCTGTTGATAGTACGTACTAAGCTCTCATGTTTCACGTACTAAGCTCTCATGTTTAACGTACTAAGCTCTCATGTTTAACGAACTAAACCCTCATGGCTAACGTACTAAGCTCTCATGGCTAACGTACTAAGCTCTCATGTTTCACGTACTAAGCTCTCATGTTTGAACAATAAAATTAATATAAATCAGCAACTTAAATAGCCTCTAAGGTTTTAAGTTTTATAAGAAAAAAAAGAATATATAAGGCTTTTAAAGCTTTTAAGGTTTAACGGTTGTGGACAACAAGCCAGGGATGTAACGCACTGAGAAGCCCTTAGAGCCTCTCAAAGCAATTTTGAGTGACACAGGAACACTTAACGGCTGACATGGGAATTAGCCATGGGCCCGTGCGAATCATTTTTACGGTTCCTGGCCTTTTGCTGGCCTTTTGCTCACATGTTCTTTCCTGCGTTATCCCCTGATTCTGTGGATAACCGTATTACCGCCTAGCCAAGAGCAGTGCCTTGCAGAAGTTCTCGGGCGA')\n",
    "\n",
    "# Load the pre-trained model and tokenizer\n",
    "pt_file_path = '../pretrained_model/pretrained_model.pt'\n",
    "model = torch.load(pt_file_path)\n",
    "model.eval()\n",
    "print(\"Model loaded successfully.\")\n",
    "\n",
    "tokenizer = PreTrainedTokenizerFast(tokenizer_file='../pretrained_model/addgene_trained_dna_tokenizer.json')\n",
    "\n",
    "# Add special tokens\n",
    "special_tokens_dict = {'additional_special_tokens': ['[PROMPT]', '[PROMPT2]']}\n",
    "tokenizer.add_special_tokens(special_tokens_dict)\n",
    "\n",
    "# Tokenize the input sequence\n",
    "print(\"Default is Addgene plasmid 202306 (https://www.addgene.org/202306/)\")\n",
    "tokenized_sequences = [[3]*10 + [2] + tokenizer.encode(sequence)]\n",
    "\n",
    "# Set the device (GPU or CPU)\n",
    "device = torch.device(\"cuda\" if torch.cuda.is_available() else \"cpu\")\n",
    "model = model.to(device)\n",
    "print(f\"Using device: {torch.cuda.get_device_name(0)}\" if torch.cuda.is_available() else \"Using CPU.\")\n",
    "\n",
    "# Get embeddings from the model\n",
    "embedding = []\n",
    "for tokenized_seq in tokenized_sequences:\n",
    "    input_ids = torch.tensor([tokenized_seq], dtype=torch.long).to(device)\n",
    "    model.config.output_hidden_states = True\n",
    "\n",
    "    # Inference to obtain hidden states\n",
    "    with torch.no_grad():\n",
    "        outputs = model(input_ids)\n",
    "        hidden_states = outputs.hidden_states[-1].cpu().numpy()\n",
    "        hidden_states_mean = np.mean(hidden_states, axis=1).reshape(-1)\n",
    "        embedding.append(hidden_states_mean)\n",
    "\n",
    "embedding = np.array(embedding)\n",
    "print(\"Finished calculation of embeddings\\n\")\n",
    "\n",
    "# Load the neural network for prediction\n",
    "class SimpleNN(nn.Module):\n",
    "    def __init__(self, input_dim, num_classes):\n",
    "        super(SimpleNN, self).__init__()\n",
    "        self.fc1 = nn.Linear(input_dim, 128)\n",
    "        self.relu = nn.ReLU()\n",
    "        self.fc2 = nn.Linear(128, num_classes)\n",
    "\n",
    "    def forward(self, x):\n",
    "        x = self.fc1(x)\n",
    "        x = self.relu(x)\n",
    "        x = self.fc2(x)\n",
    "        return x\n",
    "\n",
    "# number of unique lab labels is 948\n",
    "num_classes = 948\n",
    "input_dim = 768\n",
    "model_path = \"../prediction_models/embedding_prediction_labs.pth\"\n",
    "list_file_name = '../prediction_models/lab_list.txt'\n",
    "\n",
    "model_NN = SimpleNN(input_dim, num_classes).to(device)\n",
    "model_NN.load_state_dict(torch.load(model_path, map_location=device))\n",
    "model_NN.eval()\n",
    "\n",
    "# Perform inference\n",
    "X_data = torch.tensor([embedding[0]], dtype=torch.float32).to(device)\n",
    "output = model_NN(X_data)\n",
    "\n",
    "# Calculate probabilities using softmax\n",
    "probs = torch.nn.functional.softmax(output, dim=1).detach().cpu().numpy()[0]\n",
    "\n",
    "# Load labels\n",
    "lab_list = []\n",
    "with open(list_file_name, 'r') as file:\n",
    "    lab_list = [line.strip() for line in file]\n",
    "\n",
    "lab_list = np.array(lab_list)\n",
    "\n",
    "# Get top 10 predictions\n",
    "prob_idx = np.argsort(probs)[::-1][:10]\n",
    "top_probs = probs[prob_idx]\n",
    "top_labels = lab_list[prob_idx]\n",
    "\n",
    "# Plot the top 10 predicted labels\n",
    "plt.figure(figsize=(1.5, 1.5))\n",
    "sns.barplot(x=top_probs, y=top_labels, orient='h')\n",
    "plt.xlabel('Probability', fontsize = 7)\n",
    "plt.xticks(fontsize=7)\n",
    "plt.yticks(fontsize=7)\n",
    "plt.title(\"Origin of lab prediction\", fontsize = 7)\n",
    "\n",
    "plt.xlim([0, 1])\n",
    "plt.show()"
   ]
  },
  {
   "cell_type": "code",
   "execution_count": null,
   "id": "95d58759-57e0-4887-97bd-958e5b2119f9",
   "metadata": {},
   "outputs": [],
   "source": []
  }
 ],
 "metadata": {
  "kernelspec": {
   "display_name": "PlasmidGPT",
   "language": "python",
   "name": "python3"
  },
  "language_info": {
   "codemirror_mode": {
    "name": "ipython",
    "version": 3
   },
   "file_extension": ".py",
   "mimetype": "text/x-python",
   "name": "python",
   "nbconvert_exporter": "python",
   "pygments_lexer": "ipython3",
   "version": "3.10.13"
  }
 },
 "nbformat": 4,
 "nbformat_minor": 5
}
